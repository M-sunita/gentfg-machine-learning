{
 "cells": [
  {
   "cell_type": "markdown",
   "metadata": {},
   "source": [
    "# NumPy Tutorial\n",
    "Numpy is the library that gives Python its ability to work with data at speed. Originally, launched in 1995 as 'Numeric,' NumPy is the foundation on which many important Python data science libraries are built, including Pandas, SciPy and scikit-learn. Let us get started with using and learning Numpy.\n",
    "\n",
    "Here is a Good Reference URL to playaroud \n",
    "https://www.dataquest.io/blog/numpy-cheat-sheet/"
   ]
  },
  {
   "cell_type": "code",
   "execution_count": 1,
   "metadata": {
    "collapsed": true
   },
   "outputs": [],
   "source": [
    "import numpy as np"
   ]
  },
  {
   "cell_type": "code",
   "execution_count": 2,
   "metadata": {},
   "outputs": [
    {
     "data": {
      "text/plain": [
       "array([ 2., 33.,  4., 25.,  6.,  7.])"
      ]
     },
     "execution_count": 2,
     "metadata": {},
     "output_type": "execute_result"
    }
   ],
   "source": [
    "np.loadtxt('file.txt') ##| From a text file"
   ]
  },
  {
   "cell_type": "code",
   "execution_count": 3,
   "metadata": {},
   "outputs": [
    {
     "name": "stderr",
     "output_type": "stream",
     "text": [
      "/home/rbhupathi/anaconda2/lib/python2.7/site-packages/ipykernel_launcher.py:2: UserWarning: genfromtxt: Empty input file: \"file.csv\"\n",
      "  \n"
     ]
    },
    {
     "data": {
      "text/plain": [
       "array([], dtype=float64)"
      ]
     },
     "execution_count": 3,
     "metadata": {},
     "output_type": "execute_result"
    }
   ],
   "source": [
    "\n",
    "np.genfromtxt('file.csv',delimiter=',') # | From a CSV file"
   ]
  },
  {
   "cell_type": "code",
   "execution_count": 4,
   "metadata": {
    "collapsed": true
   },
   "outputs": [],
   "source": [
    "arr= np.array([2,33,4,25,6,7])\n",
    "np.savetxt('file.txt',arr,delimiter=' ')# | Writes to a text file"
   ]
  },
  {
   "cell_type": "code",
   "execution_count": 11,
   "metadata": {},
   "outputs": [
    {
     "name": "stdout",
     "output_type": "stream",
     "text": [
      "[1 2 3]\n"
     ]
    },
    {
     "data": {
      "text/plain": [
       "array([[6, 3, 9, 4],\n",
       "       [6, 8, 5, 7],\n",
       "       [3, 0, 6, 9],\n",
       "       [8, 9, 4, 7],\n",
       "       [1, 5, 2, 4],\n",
       "       [6, 4, 4, 8]])"
      ]
     },
     "execution_count": 11,
     "metadata": {},
     "output_type": "execute_result"
    }
   ],
   "source": [
    "x=np.array([1,2,3]) ## One dimensional array\n",
    "\n",
    "y=np.random.randint(10,size=(6,4)) #| 2x3 array with random ints between 0-4\n",
    "\n",
    "print x\n",
    "y"
   ]
  },
  {
   "cell_type": "code",
   "execution_count": null,
   "metadata": {
    "collapsed": true
   },
   "outputs": [],
   "source": []
  },
  {
   "cell_type": "code",
   "execution_count": 12,
   "metadata": {},
   "outputs": [
    {
     "data": {
      "text/plain": [
       "array([[1, 2, 3],\n",
       "       [4, 5, 6]])"
      ]
     },
     "execution_count": 12,
     "metadata": {},
     "output_type": "execute_result"
    }
   ],
   "source": [
    "np.array([(1,2,3),(4,5,6)]) #| Two dimensional array"
   ]
  },
  {
   "cell_type": "code",
   "execution_count": 13,
   "metadata": {},
   "outputs": [
    {
     "data": {
      "text/plain": [
       "array([0., 0., 0.])"
      ]
     },
     "execution_count": 13,
     "metadata": {},
     "output_type": "execute_result"
    }
   ],
   "source": [
    "np.zeros(3) #| 1D array of length 3 all values 0"
   ]
  },
  {
   "cell_type": "code",
   "execution_count": 14,
   "metadata": {},
   "outputs": [
    {
     "data": {
      "text/plain": [
       "array([[1., 1., 1., 1.],\n",
       "       [1., 1., 1., 1.],\n",
       "       [1., 1., 1., 1.]])"
      ]
     },
     "execution_count": 14,
     "metadata": {},
     "output_type": "execute_result"
    }
   ],
   "source": [
    "np.ones((3,4)) #| 3x4 array with all values 1"
   ]
  },
  {
   "cell_type": "code",
   "execution_count": 15,
   "metadata": {},
   "outputs": [
    {
     "data": {
      "text/plain": [
       "array([[1., 0., 0., 0., 0.],\n",
       "       [0., 1., 0., 0., 0.],\n",
       "       [0., 0., 1., 0., 0.],\n",
       "       [0., 0., 0., 1., 0.],\n",
       "       [0., 0., 0., 0., 1.]])"
      ]
     },
     "execution_count": 15,
     "metadata": {},
     "output_type": "execute_result"
    }
   ],
   "source": [
    "np.eye(5) #| 5x5 array of 0 with 1 on diagonal (Identity matrix)"
   ]
  },
  {
   "cell_type": "code",
   "execution_count": 16,
   "metadata": {},
   "outputs": [
    {
     "name": "stdout",
     "output_type": "stream",
     "text": [
      "[  0.  20.  40.  60.  80. 100.]\n"
     ]
    }
   ],
   "source": [
    "p=np.linspace(0,100,6) #| Array of 6 evenly divided values from 0 to 100\n",
    "print p"
   ]
  },
  {
   "cell_type": "code",
   "execution_count": 13,
   "metadata": {},
   "outputs": [
    {
     "data": {
      "text/plain": [
       "array([0, 3, 6, 9])"
      ]
     },
     "execution_count": 13,
     "metadata": {},
     "output_type": "execute_result"
    }
   ],
   "source": [
    "np.arange(0,10,3) #| Array of values from 0 to less than 10 with step 3 (eg [0,3,6,9])"
   ]
  },
  {
   "cell_type": "code",
   "execution_count": 14,
   "metadata": {},
   "outputs": [
    {
     "data": {
      "text/plain": [
       "array([[8, 8, 8],\n",
       "       [8, 8, 8]])"
      ]
     },
     "execution_count": 14,
     "metadata": {},
     "output_type": "execute_result"
    }
   ],
   "source": [
    "np.full((2,3),8) #| 2x3 array with all values 8"
   ]
  },
  {
   "cell_type": "code",
   "execution_count": 28,
   "metadata": {},
   "outputs": [
    {
     "data": {
      "text/plain": [
       "array([[0.90466759, 0.40482522, 0.3311745 , 0.57213877, 0.84544365],\n",
       "       [0.86101431, 0.59568812, 0.08466161, 0.59726661, 0.24545371],\n",
       "       [0.73259345, 0.89465129, 0.51473397, 0.60356351, 0.06506781],\n",
       "       [0.54007473, 0.12918678, 0.61456285, 0.36365035, 0.76775803]])"
      ]
     },
     "execution_count": 28,
     "metadata": {},
     "output_type": "execute_result"
    }
   ],
   "source": [
    "\n",
    "np.random.rand(4,5) #| 4x5 array of random floats between 0-1"
   ]
  },
  {
   "cell_type": "code",
   "execution_count": 29,
   "metadata": {},
   "outputs": [
    {
     "data": {
      "text/plain": [
       "array([[ 4.85341364, 10.98181181, 68.40232151, 51.46536971, 57.16413716,\n",
       "        84.3706994 , 48.77376391, 81.01444221],\n",
       "       [51.02436293, 92.67206932, 66.69277715, 14.87268394, 36.45531753,\n",
       "        86.57749159, 35.02852109, 18.90257595],\n",
       "       [47.26213092, 39.27811748, 61.89299266, 43.67662919, 26.09221573,\n",
       "        41.24722117, 41.90340346, 90.24218559],\n",
       "       [97.9616262 , 62.35688394,  8.31841226, 73.29987176, 67.86854025,\n",
       "        82.6022867 , 34.74513367,  5.88800942],\n",
       "       [61.18218165, 12.40146183, 75.95295292, 79.44233176, 40.86267867,\n",
       "        94.37975059, 17.37797938, 94.25858497],\n",
       "       [46.54896748, 76.29936413, 75.28201955, 98.12099191, 97.32779941,\n",
       "         4.00911246,  1.59712775, 54.3290315 ]])"
      ]
     },
     "execution_count": 29,
     "metadata": {},
     "output_type": "execute_result"
    }
   ],
   "source": [
    "np.random.rand(6,8)*100 #|# 6x7 array of random floats between 0-100"
   ]
  },
  {
   "cell_type": "code",
   "execution_count": 30,
   "metadata": {},
   "outputs": [
    {
     "data": {
      "text/plain": [
       "array([ 3.38776179, 65.74846358, 53.49026017, 66.65583961, 44.13407044,\n",
       "       27.24714587])"
      ]
     },
     "execution_count": 30,
     "metadata": {},
     "output_type": "execute_result"
    }
   ],
   "source": [
    "np.random.random(6)*100 # "
   ]
  },
  {
   "cell_type": "markdown",
   "metadata": {
    "collapsed": true
   },
   "source": [
    "# Inspecting Numpy Properties"
   ]
  },
  {
   "cell_type": "code",
   "execution_count": 33,
   "metadata": {},
   "outputs": [
    {
     "data": {
      "text/plain": [
       "56"
      ]
     },
     "execution_count": 33,
     "metadata": {},
     "output_type": "execute_result"
    }
   ],
   "source": [
    "arr= np.random.rand(7,8)\n",
    "arr.size #| Returns number of elements in arr\n"
   ]
  },
  {
   "cell_type": "code",
   "execution_count": 34,
   "metadata": {},
   "outputs": [
    {
     "data": {
      "text/plain": [
       "(7, 8)"
      ]
     },
     "execution_count": 34,
     "metadata": {},
     "output_type": "execute_result"
    }
   ],
   "source": [
    "arr.shape #| Returns dimensions of arr (rows,columns)"
   ]
  },
  {
   "cell_type": "code",
   "execution_count": 36,
   "metadata": {},
   "outputs": [
    {
     "data": {
      "text/plain": [
       "array([[0.98622472, 0.10451524, 0.42265592, 0.87506235, 0.58427565,\n",
       "        0.01753367, 0.88870258],\n",
       "       [0.38414766, 0.16773021, 0.33717983, 0.59414813, 0.03774518,\n",
       "        0.64330852, 0.6101064 ],\n",
       "       [0.22879392, 0.42601776, 0.19351496, 0.02132984, 0.58391987,\n",
       "        0.44535704, 0.84205665],\n",
       "       [0.19905565, 0.44059905, 0.66745453, 0.06833463, 0.35533663,\n",
       "        0.6860363 , 0.2450719 ],\n",
       "       [0.36397732, 0.5773637 , 0.40943559, 0.8767815 , 0.85988128,\n",
       "        0.83397689, 0.42627117],\n",
       "       [0.19013   , 0.6388631 , 0.42815498, 0.50580707, 0.65105156,\n",
       "        0.93994153, 0.80824973],\n",
       "       [0.12321663, 0.90746221, 0.67706733, 0.3194252 , 0.72999299,\n",
       "        0.47496392, 0.56103256],\n",
       "       [0.57182469, 0.15148925, 0.36198212, 0.43573474, 0.0577251 ,\n",
       "        0.72373251, 0.32680477]])"
      ]
     },
     "execution_count": 36,
     "metadata": {},
     "output_type": "execute_result"
    }
   ],
   "source": [
    "arr.reshape(8,7) #| Reshapes arr to 3 rows, 4 columns without changing data\n"
   ]
  },
  {
   "cell_type": "code",
   "execution_count": 37,
   "metadata": {
    "collapsed": true
   },
   "outputs": [],
   "source": [
    "arr.resize(7,8) #| Changes arr shape to 5x6 and fills new values with 0"
   ]
  },
  {
   "cell_type": "code",
   "execution_count": 38,
   "metadata": {},
   "outputs": [
    {
     "data": {
      "text/plain": [
       "array([[0.98622472, 0.10451524, 0.42265592, 0.87506235, 0.58427565,\n",
       "        0.01753367, 0.88870258, 0.38414766],\n",
       "       [0.16773021, 0.33717983, 0.59414813, 0.03774518, 0.64330852,\n",
       "        0.6101064 , 0.22879392, 0.42601776],\n",
       "       [0.19351496, 0.02132984, 0.58391987, 0.44535704, 0.84205665,\n",
       "        0.19905565, 0.44059905, 0.66745453],\n",
       "       [0.06833463, 0.35533663, 0.6860363 , 0.2450719 , 0.36397732,\n",
       "        0.5773637 , 0.40943559, 0.8767815 ],\n",
       "       [0.85988128, 0.83397689, 0.42627117, 0.19013   , 0.6388631 ,\n",
       "        0.42815498, 0.50580707, 0.65105156],\n",
       "       [0.93994153, 0.80824973, 0.12321663, 0.90746221, 0.67706733,\n",
       "        0.3194252 , 0.72999299, 0.47496392],\n",
       "       [0.56103256, 0.57182469, 0.15148925, 0.36198212, 0.43573474,\n",
       "        0.0577251 , 0.72373251, 0.32680477]])"
      ]
     },
     "execution_count": 38,
     "metadata": {},
     "output_type": "execute_result"
    }
   ],
   "source": [
    "arr"
   ]
  },
  {
   "cell_type": "code",
   "execution_count": 39,
   "metadata": {},
   "outputs": [
    {
     "data": {
      "text/plain": [
       "array([[0.98622472, 0.10451524, 0.42265592, 0.87506235, 0.58427565,\n",
       "        0.01753367, 0.88870258, 0.38414766, 0.16773021, 0.33717983],\n",
       "       [0.59414813, 0.03774518, 0.64330852, 0.6101064 , 0.22879392,\n",
       "        0.42601776, 0.19351496, 0.02132984, 0.58391987, 0.44535704],\n",
       "       [0.84205665, 0.19905565, 0.44059905, 0.66745453, 0.06833463,\n",
       "        0.35533663, 0.6860363 , 0.2450719 , 0.36397732, 0.5773637 ],\n",
       "       [0.40943559, 0.8767815 , 0.85988128, 0.83397689, 0.42627117,\n",
       "        0.19013   , 0.6388631 , 0.42815498, 0.50580707, 0.65105156],\n",
       "       [0.93994153, 0.80824973, 0.12321663, 0.90746221, 0.67706733,\n",
       "        0.3194252 , 0.72999299, 0.47496392, 0.56103256, 0.57182469],\n",
       "       [0.15148925, 0.36198212, 0.43573474, 0.0577251 , 0.72373251,\n",
       "        0.32680477, 0.98622472, 0.10451524, 0.42265592, 0.87506235],\n",
       "       [0.58427565, 0.01753367, 0.88870258, 0.38414766, 0.16773021,\n",
       "        0.33717983, 0.59414813, 0.03774518, 0.64330852, 0.6101064 ],\n",
       "       [0.22879392, 0.42601776, 0.19351496, 0.02132984, 0.58391987,\n",
       "        0.44535704, 0.84205665, 0.19905565, 0.44059905, 0.66745453],\n",
       "       [0.06833463, 0.35533663, 0.6860363 , 0.2450719 , 0.36397732,\n",
       "        0.5773637 , 0.40943559, 0.8767815 , 0.85988128, 0.83397689],\n",
       "       [0.42627117, 0.19013   , 0.6388631 , 0.42815498, 0.50580707,\n",
       "        0.65105156, 0.93994153, 0.80824973, 0.12321663, 0.90746221]])"
      ]
     },
     "execution_count": 39,
     "metadata": {},
     "output_type": "execute_result"
    }
   ],
   "source": [
    "np.resize(arr,(10,10))  #If the new array is larger than the original array, \n",
    "#then the new array is filled with repeated copies of a. Note that this behavior \n",
    "#is different from a.resize(new_shape) which fills with zeros instead of repeated copies of a."
   ]
  },
  {
   "cell_type": "code",
   "execution_count": 40,
   "metadata": {},
   "outputs": [
    {
     "data": {
      "text/plain": [
       "array([[0, 1, 2],\n",
       "       [3, 0, 1]])"
      ]
     },
     "execution_count": 40,
     "metadata": {},
     "output_type": "execute_result"
    }
   ],
   "source": [
    "a=np.array([[0,1],[2,3]])\n",
    "np.resize(a,(2,3))  ## Resizes the array , filling the missing values with zeros"
   ]
  },
  {
   "cell_type": "code",
   "execution_count": 25,
   "metadata": {
    "collapsed": true
   },
   "outputs": [],
   "source": [
    "multi_dim=np.random.rand(4,5,6) * 10  #creating a 3 dimensioan array . The shape parameter is very important"
   ]
  },
  {
   "cell_type": "code",
   "execution_count": 34,
   "metadata": {},
   "outputs": [
    {
     "data": {
      "text/plain": [
       "array([[[ 6.71057844,  5.95530392,  4.04871573,  9.86134054,  2.40111807,\n",
       "          8.08563255],\n",
       "        [ 4.25393049,  7.23536507,  7.86757994,  4.09216314,  4.68660577,\n",
       "          2.86024634],\n",
       "        [ 2.46957737,  8.21833753,  5.71581885,  4.12148194,  5.47500659,\n",
       "          3.08459758],\n",
       "        [ 0.66052484,  7.7593569 ,  5.05006223,  7.50389051,  5.69145356,\n",
       "          5.95445413],\n",
       "        [ 7.31043698,  0.5589532 ,  8.00197824,  9.88839935,  6.99868961,\n",
       "          5.29683189]],\n",
       "\n",
       "       [[ 9.39008505,  9.15439529,  9.93972738,  2.91640001,  9.00501639,\n",
       "          2.78030383],\n",
       "        [ 1.56241519,  6.87172808,  6.15803021,  5.18539644,  9.57200746,\n",
       "          3.05891898],\n",
       "        [ 4.24816387,  3.31632394,  1.9090437 ,  6.75039788,  2.29086635,\n",
       "          9.61571457],\n",
       "        [ 3.60663901,  3.34624598,  9.59332172,  3.1212261 ,  0.56344686,\n",
       "          3.92110407],\n",
       "        [ 6.49464563,  0.57880235,  1.80907198,  1.16262148,  9.3106623 ,\n",
       "          9.46985769]],\n",
       "\n",
       "       [[ 0.2265064 ,  7.91149408,  0.3484409 ,  3.07716934,  0.50404875,\n",
       "          4.12491971],\n",
       "        [ 7.91319047,  6.20662194,  9.55118976,  2.50947961,  8.13650017,\n",
       "          6.73393511],\n",
       "        [ 1.96824515,  3.86480145,  6.62347627,  3.60335981,  8.22398846,\n",
       "          7.29101065],\n",
       "        [ 4.83816281,  7.17200432,  0.1930474 ,  3.5781955 ,  9.82393682,\n",
       "          1.64292147],\n",
       "        [ 3.52728445,  6.81939721,  1.02639419,  0.01126978,  9.13566512,\n",
       "          9.66731713]],\n",
       "\n",
       "       [[ 1.59586957,  8.05451219,  7.96174488,  4.06607187,  2.89648992,\n",
       "          4.7695925 ],\n",
       "        [ 5.88316266,  6.07909823,  3.46486017,  7.94302197,  9.76469734,\n",
       "          4.34408377],\n",
       "        [ 2.02495952,  9.45351137,  6.28381994,  1.32442921,  9.61095315,\n",
       "          2.73071102],\n",
       "        [ 7.51612117,  9.90164147,  5.75392247,  9.26610242,  1.09011105,\n",
       "          2.73465692],\n",
       "        [ 0.22295508,  5.49599449,  5.83822346,  1.45436009,  1.18469875,\n",
       "          2.20671637]]])"
      ]
     },
     "execution_count": 34,
     "metadata": {},
     "output_type": "execute_result"
    }
   ],
   "source": [
    "multi_dim\n"
   ]
  },
  {
   "cell_type": "markdown",
   "metadata": {},
   "source": [
    "# Accessing and slicing array elements ... HOMEWORK . Use the URL at the top of this page "
   ]
  },
  {
   "cell_type": "code",
   "execution_count": 35,
   "metadata": {},
   "outputs": [
    {
     "data": {
      "text/plain": [
       "9.8239368222849137"
      ]
     },
     "execution_count": 35,
     "metadata": {},
     "output_type": "execute_result"
    }
   ],
   "source": [
    " multi_dim[2,3,4]\n",
    "        "
   ]
  },
  {
   "cell_type": "markdown",
   "metadata": {
    "collapsed": true
   },
   "source": [
    "Copyright © 2018 Bhupathi Consulting Inc."
   ]
  },
  {
   "cell_type": "code",
   "execution_count": null,
   "metadata": {
    "collapsed": true
   },
   "outputs": [],
   "source": []
  }
 ],
 "metadata": {
  "kernelspec": {
   "display_name": "Python 2",
   "language": "python",
   "name": "python2"
  },
  "language_info": {
   "codemirror_mode": {
    "name": "ipython",
    "version": 2
   },
   "file_extension": ".py",
   "mimetype": "text/x-python",
   "name": "python",
   "nbconvert_exporter": "python",
   "pygments_lexer": "ipython2",
   "version": "2.7.14"
  }
 },
 "nbformat": 4,
 "nbformat_minor": 2
}
