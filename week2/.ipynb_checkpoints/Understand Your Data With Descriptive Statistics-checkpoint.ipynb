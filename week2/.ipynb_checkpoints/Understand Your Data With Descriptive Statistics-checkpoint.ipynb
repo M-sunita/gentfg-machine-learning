{
 "cells": [
  {
   "cell_type": "markdown",
   "metadata": {},
   "source": [
    "# Understand Your Data With Descriptive Statistics\n",
    "\n",
    "You must understand your data in order to get the best results. In this chapter you will discover\n",
    "7 recipes that you can use in Python to better understand your machine learning data. After\n",
    "reading this lesson you will know how to:\n",
    "1. Take a peek at your raw data.\n",
    "2. Review the dimensions of your dataset.\n",
    "3. Review the data types of attributes in your data.\n",
    "4. Summarize the distribution of instances across classes in your dataset.\n",
    "5. Summarize your data using descriptive statistics.\n",
    "6. Understand the relationships in your data using correlations.\n",
    "7. Review the skew of the distributions of each attribute.\n",
    "\n",
    "\n",
    "For this we will use the Pima Indians Diabetes classification dataset\n",
    "from the UCI Machine Learning repository. The Data is located at https://goo.gl/vhm1eU\n",
    "\n",
    "Attribute Information:\n",
    "\n",
    "1. Number of times pregnant \n",
    "2. Plasma glucose concentration a 2 hours in an oral glucose tolerance test \n",
    "3. Diastolic blood pressure (mm Hg) \n",
    "4. Triceps skin fold thickness (mm) \n",
    "5. 2-Hour serum insulin (mu U/ml) \n",
    "6. Body mass index (weight in kg/(height in m)^2) \n",
    "7. Diabetes pedigree function \n",
    "8. Age (years) \n",
    "9. Class variable (0 or 1) "
   ]
  },
  {
   "cell_type": "code",
   "execution_count": 4,
   "metadata": {},
   "outputs": [
    {
     "name": "stdout",
     "output_type": "stream",
     "text": [
      "     preg    plas    pres    skin    test    mass    pedi    age    class \n",
      "0        6     148      72      35       0    33.6   0.627     50        1\n",
      "1        1      85      66      29       0    26.6   0.351     31        0\n",
      "2        8     183      64       0       0    23.3   0.672     32        1\n",
      "3        1      89      66      23      94    28.1   0.167     21        0\n",
      "4        0     137      40      35     168    43.1   2.288     33        1\n",
      "5        5     116      74       0       0    25.6   0.201     30        0\n",
      "6        3      78      50      32      88    31.0   0.248     26        1\n",
      "7       10     115       0       0       0    35.3   0.134     29        0\n",
      "8        2     197      70      45     543    30.5   0.158     53        1\n",
      "9        8     125      96       0       0     0.0   0.232     54        1\n",
      "10       4     110      92       0       0    37.6   0.191     30        0\n",
      "11      10     168      74       0       0    38.0   0.537     34        1\n",
      "12      10     139      80       0       0    27.1   1.441     57        0\n",
      "13       1     189      60      23     846    30.1   0.398     59        1\n",
      "14       5     166      72      19     175    25.8   0.587     51        1\n",
      "15       7     100       0       0       0    30.0   0.484     32        1\n",
      "16       0     118      84      47     230    45.8   0.551     31        1\n",
      "17       7     107      74       0       0    29.6   0.254     31        1\n",
      "18       1     103      30      38      83    43.3   0.183     33        0\n",
      "19       1     115      70      30      96    34.6   0.529     32        1\n"
     ]
    }
   ],
   "source": [
    "import pandas\n",
    "url = \"https://goo.gl/vhm1eU\"\n",
    "#url=\"./PimaIndianDiabates.csv\"\n",
    "names = [ ' preg ' , ' plas ' , ' pres ' , ' skin ' , ' test ' , ' mass ' , ' pedi ' , ' age ' , ' class ' ]\n",
    "data = pandas.read_csv(url, names=names)\n",
    "peek = data.head(20)\n",
    "print(peek) ## A peek of the data displays the first 20 rows."
   ]
  },
  {
   "cell_type": "code",
   "execution_count": null,
   "metadata": {
    "collapsed": true
   },
   "outputs": [],
   "source": []
  },
  {
   "cell_type": "code",
   "execution_count": null,
   "metadata": {
    "collapsed": true
   },
   "outputs": [],
   "source": []
  }
 ],
 "metadata": {
  "kernelspec": {
   "display_name": "Python 2",
   "language": "python",
   "name": "python2"
  },
  "language_info": {
   "codemirror_mode": {
    "name": "ipython",
    "version": 2
   },
   "file_extension": ".py",
   "mimetype": "text/x-python",
   "name": "python",
   "nbconvert_exporter": "python",
   "pygments_lexer": "ipython2",
   "version": "2.7.14"
  }
 },
 "nbformat": 4,
 "nbformat_minor": 2
}
