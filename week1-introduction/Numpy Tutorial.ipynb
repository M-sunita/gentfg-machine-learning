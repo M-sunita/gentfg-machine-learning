{
 "cells": [
  {
   "cell_type": "markdown",
   "metadata": {},
   "source": [
    "# NumPy Tutorial\n",
    "Numpy is the library that gives Python its ability to work with data at speed. Originally, launched in 1995 as 'Numeric,' NumPy is the foundation on which many important Python data science libraries are built, including Pandas, SciPy and scikit-learn. Let us get started with using and learning Numpy.\n",
    "\n",
    "Here is a Good Reference URL to playaroud \n",
    "https://www.dataquest.io/blog/numpy-cheat-sheet/"
   ]
  },
  {
   "cell_type": "code",
   "execution_count": 3,
   "metadata": {
    "collapsed": true
   },
   "outputs": [],
   "source": [
    "import numpy as np"
   ]
  },
  {
   "cell_type": "code",
   "execution_count": 4,
   "metadata": {},
   "outputs": [
    {
     "data": {
      "text/plain": [
       "array([  2.,  33.,   4.,  25.,   6.,   7.])"
      ]
     },
     "execution_count": 4,
     "metadata": {},
     "output_type": "execute_result"
    }
   ],
   "source": [
    "np.loadtxt('file.txt') ##| From a text file"
   ]
  },
  {
   "cell_type": "code",
   "execution_count": 5,
   "metadata": {},
   "outputs": [
    {
     "name": "stderr",
     "output_type": "stream",
     "text": [
      "/home/rbhupathi/anaconda2/lib/python2.7/site-packages/ipykernel_launcher.py:2: UserWarning: genfromtxt: Empty input file: \"file.csv\"\n",
      "  \n"
     ]
    },
    {
     "data": {
      "text/plain": [
       "array([], dtype=float64)"
      ]
     },
     "execution_count": 5,
     "metadata": {},
     "output_type": "execute_result"
    }
   ],
   "source": [
    "\n",
    "np.genfromtxt('file.csv',delimiter=',') # | From a CSV file"
   ]
  },
  {
   "cell_type": "code",
   "execution_count": 6,
   "metadata": {
    "collapsed": true
   },
   "outputs": [],
   "source": [
    "arr= np.array([2,33,4,25,6,7])\n",
    "np.savetxt('file.txt',arr,delimiter=' ')# | Writes to a text file"
   ]
  },
  {
   "cell_type": "code",
   "execution_count": 7,
   "metadata": {},
   "outputs": [
    {
     "data": {
      "text/plain": [
       "array([[4, 2, 2],\n",
       "       [0, 1, 0]])"
      ]
     },
     "execution_count": 7,
     "metadata": {},
     "output_type": "execute_result"
    }
   ],
   "source": [
    "np.array([1,2,3]) ## One dimensional array\n",
    "\n",
    "np.random.randint(5,size=(2,3)) #| 2x3 array with random ints between 0-4\n",
    "\n"
   ]
  },
  {
   "cell_type": "code",
   "execution_count": 8,
   "metadata": {},
   "outputs": [
    {
     "data": {
      "text/plain": [
       "array([[1, 2, 3],\n",
       "       [4, 5, 6]])"
      ]
     },
     "execution_count": 8,
     "metadata": {},
     "output_type": "execute_result"
    }
   ],
   "source": [
    "np.array([(1,2,3),(4,5,6)]) #| Two dimensional array"
   ]
  },
  {
   "cell_type": "code",
   "execution_count": 9,
   "metadata": {},
   "outputs": [
    {
     "data": {
      "text/plain": [
       "array([ 0.,  0.,  0.])"
      ]
     },
     "execution_count": 9,
     "metadata": {},
     "output_type": "execute_result"
    }
   ],
   "source": [
    "np.zeros(3) #| 1D array of length 3 all values 0"
   ]
  },
  {
   "cell_type": "code",
   "execution_count": 10,
   "metadata": {},
   "outputs": [
    {
     "data": {
      "text/plain": [
       "array([[ 1.,  1.,  1.,  1.],\n",
       "       [ 1.,  1.,  1.,  1.],\n",
       "       [ 1.,  1.,  1.,  1.]])"
      ]
     },
     "execution_count": 10,
     "metadata": {},
     "output_type": "execute_result"
    }
   ],
   "source": [
    "np.ones((3,4)) #| 3x4 array with all values 1"
   ]
  },
  {
   "cell_type": "code",
   "execution_count": 11,
   "metadata": {},
   "outputs": [
    {
     "data": {
      "text/plain": [
       "array([[ 1.,  0.,  0.,  0.,  0.],\n",
       "       [ 0.,  1.,  0.,  0.,  0.],\n",
       "       [ 0.,  0.,  1.,  0.,  0.],\n",
       "       [ 0.,  0.,  0.,  1.,  0.],\n",
       "       [ 0.,  0.,  0.,  0.,  1.]])"
      ]
     },
     "execution_count": 11,
     "metadata": {},
     "output_type": "execute_result"
    }
   ],
   "source": [
    "np.eye(5) #| 5x5 array of 0 with 1 on diagonal (Identity matrix)"
   ]
  },
  {
   "cell_type": "code",
   "execution_count": 12,
   "metadata": {},
   "outputs": [
    {
     "data": {
      "text/plain": [
       "array([   0.,   20.,   40.,   60.,   80.,  100.])"
      ]
     },
     "execution_count": 12,
     "metadata": {},
     "output_type": "execute_result"
    }
   ],
   "source": [
    "np.linspace(0,100,6) #| Array of 6 evenly divided values from 0 to 100"
   ]
  },
  {
   "cell_type": "code",
   "execution_count": 13,
   "metadata": {},
   "outputs": [
    {
     "data": {
      "text/plain": [
       "array([0, 3, 6, 9])"
      ]
     },
     "execution_count": 13,
     "metadata": {},
     "output_type": "execute_result"
    }
   ],
   "source": [
    "np.arange(0,10,3) #| Array of values from 0 to less than 10 with step 3 (eg [0,3,6,9])"
   ]
  },
  {
   "cell_type": "code",
   "execution_count": 14,
   "metadata": {},
   "outputs": [
    {
     "data": {
      "text/plain": [
       "array([[8, 8, 8],\n",
       "       [8, 8, 8]])"
      ]
     },
     "execution_count": 14,
     "metadata": {},
     "output_type": "execute_result"
    }
   ],
   "source": [
    "np.full((2,3),8) #| 2x3 array with all values 8"
   ]
  },
  {
   "cell_type": "code",
   "execution_count": 15,
   "metadata": {},
   "outputs": [
    {
     "data": {
      "text/plain": [
       "array([[ 0.66322544,  0.41331352,  0.15244125,  0.29206797,  0.09777   ],\n",
       "       [ 0.51513673,  0.94518736,  0.25058522,  0.79578952,  0.08661794],\n",
       "       [ 0.39607845,  0.42108643,  0.8207859 ,  0.48716579,  0.04270515],\n",
       "       [ 0.58389713,  0.85721158,  0.12839073,  0.31420433,  0.34785702]])"
      ]
     },
     "execution_count": 15,
     "metadata": {},
     "output_type": "execute_result"
    }
   ],
   "source": [
    "np.random.rand(4,5) #| 4x5 array of random floats between 0-1"
   ]
  },
  {
   "cell_type": "code",
   "execution_count": 16,
   "metadata": {},
   "outputs": [
    {
     "data": {
      "text/plain": [
       "array([[ 74.38102792,  37.07786637,  65.96976184,   2.76965926,\n",
       "         37.38370521,  14.85868297,   9.81291024,  86.66882889],\n",
       "       [ 21.62253806,  36.00493665,  22.68066514,  62.50179492,\n",
       "         48.35121915,  21.88470193,  19.10052314,  47.41376186],\n",
       "       [ 56.18240909,  18.88333376,  74.01739821,  15.4778479 ,\n",
       "          2.40687456,  53.64380681,  78.88505917,  90.92555383],\n",
       "       [ 81.28913132,  45.36478843,  41.35195522,  59.24097479,\n",
       "         33.69771937,  38.39630807,  31.99650873,  33.69637953],\n",
       "       [ 78.8997691 ,  59.39551121,  39.12396999,  93.20642244,\n",
       "         60.02337683,  18.47778879,  23.18064445,   9.79225336],\n",
       "       [  5.47773634,  38.45413622,  24.92984062,  16.71623836,\n",
       "         17.79557184,  83.82498599,  69.42653201,  36.69248657]])"
      ]
     },
     "execution_count": 16,
     "metadata": {},
     "output_type": "execute_result"
    }
   ],
   "source": [
    "np.random.rand(6,8)*100 #|# 6x7 array of random floats between 0-100"
   ]
  },
  {
   "cell_type": "code",
   "execution_count": 17,
   "metadata": {},
   "outputs": [
    {
     "data": {
      "text/plain": [
       "array([ 11.88614613,  21.09169472,  43.98293097,  89.20942508,\n",
       "        25.02798469,  19.52401675])"
      ]
     },
     "execution_count": 17,
     "metadata": {},
     "output_type": "execute_result"
    }
   ],
   "source": [
    "np.random.random(6)*100 # "
   ]
  },
  {
   "cell_type": "markdown",
   "metadata": {
    "collapsed": true
   },
   "source": [
    "# Inspecting Numpy Properties"
   ]
  },
  {
   "cell_type": "code",
   "execution_count": 18,
   "metadata": {},
   "outputs": [
    {
     "data": {
      "text/plain": [
       "56"
      ]
     },
     "execution_count": 18,
     "metadata": {},
     "output_type": "execute_result"
    }
   ],
   "source": [
    "arr= np.random.rand(7,8)\n",
    "arr.size #| Returns number of elements in arr\n"
   ]
  },
  {
   "cell_type": "code",
   "execution_count": 19,
   "metadata": {},
   "outputs": [
    {
     "data": {
      "text/plain": [
       "(7, 8)"
      ]
     },
     "execution_count": 19,
     "metadata": {},
     "output_type": "execute_result"
    }
   ],
   "source": [
    "arr.shape #| Returns dimensions of arr (rows,columns)"
   ]
  },
  {
   "cell_type": "code",
   "execution_count": 20,
   "metadata": {},
   "outputs": [
    {
     "data": {
      "text/plain": [
       "array([[ 0.21334561,  0.73271105,  0.49678053,  0.77114822,  0.36103517,\n",
       "         0.92927208,  0.73117026],\n",
       "       [ 0.38813793,  0.41771781,  0.74249584,  0.80481757,  0.53719581,\n",
       "         0.46397436,  0.88582339],\n",
       "       [ 0.53883991,  0.41843365,  0.65150896,  0.42714875,  0.95508636,\n",
       "         0.05221604,  0.81000672],\n",
       "       [ 0.14206148,  0.05900495,  0.56495802,  0.71858764,  0.13044406,\n",
       "         0.01558475,  0.52916105],\n",
       "       [ 0.09437895,  0.29040601,  0.14993367,  0.96230284,  0.24575605,\n",
       "         0.70017014,  0.80862508],\n",
       "       [ 0.02749607,  0.84613089,  0.22600285,  0.73421987,  0.45838803,\n",
       "         0.23313285,  0.04318389],\n",
       "       [ 0.8073859 ,  0.16618066,  0.29141479,  0.74703399,  0.62229083,\n",
       "         0.12747999,  0.28073162],\n",
       "       [ 0.69845887,  0.72057707,  0.89881551,  0.79709691,  0.92874576,\n",
       "         0.33357671,  0.07222425]])"
      ]
     },
     "execution_count": 20,
     "metadata": {},
     "output_type": "execute_result"
    }
   ],
   "source": [
    "arr.reshape(8,7) #| Reshapes arr to 3 rows, 4 columns without changing data\n"
   ]
  },
  {
   "cell_type": "code",
   "execution_count": 21,
   "metadata": {
    "collapsed": true
   },
   "outputs": [],
   "source": [
    "arr.resize(7,8) #| Changes arr shape to 5x6 and fills new values with 0"
   ]
  },
  {
   "cell_type": "code",
   "execution_count": 22,
   "metadata": {},
   "outputs": [
    {
     "data": {
      "text/plain": [
       "array([[ 0.21334561,  0.73271105,  0.49678053,  0.77114822,  0.36103517,\n",
       "         0.92927208,  0.73117026,  0.38813793],\n",
       "       [ 0.41771781,  0.74249584,  0.80481757,  0.53719581,  0.46397436,\n",
       "         0.88582339,  0.53883991,  0.41843365],\n",
       "       [ 0.65150896,  0.42714875,  0.95508636,  0.05221604,  0.81000672,\n",
       "         0.14206148,  0.05900495,  0.56495802],\n",
       "       [ 0.71858764,  0.13044406,  0.01558475,  0.52916105,  0.09437895,\n",
       "         0.29040601,  0.14993367,  0.96230284],\n",
       "       [ 0.24575605,  0.70017014,  0.80862508,  0.02749607,  0.84613089,\n",
       "         0.22600285,  0.73421987,  0.45838803],\n",
       "       [ 0.23313285,  0.04318389,  0.8073859 ,  0.16618066,  0.29141479,\n",
       "         0.74703399,  0.62229083,  0.12747999],\n",
       "       [ 0.28073162,  0.69845887,  0.72057707,  0.89881551,  0.79709691,\n",
       "         0.92874576,  0.33357671,  0.07222425]])"
      ]
     },
     "execution_count": 22,
     "metadata": {},
     "output_type": "execute_result"
    }
   ],
   "source": [
    "arr"
   ]
  },
  {
   "cell_type": "code",
   "execution_count": 23,
   "metadata": {},
   "outputs": [
    {
     "data": {
      "text/plain": [
       "array([[ 0.21334561,  0.73271105,  0.49678053,  0.77114822,  0.36103517,\n",
       "         0.92927208,  0.73117026,  0.38813793,  0.41771781,  0.74249584],\n",
       "       [ 0.80481757,  0.53719581,  0.46397436,  0.88582339,  0.53883991,\n",
       "         0.41843365,  0.65150896,  0.42714875,  0.95508636,  0.05221604],\n",
       "       [ 0.81000672,  0.14206148,  0.05900495,  0.56495802,  0.71858764,\n",
       "         0.13044406,  0.01558475,  0.52916105,  0.09437895,  0.29040601],\n",
       "       [ 0.14993367,  0.96230284,  0.24575605,  0.70017014,  0.80862508,\n",
       "         0.02749607,  0.84613089,  0.22600285,  0.73421987,  0.45838803],\n",
       "       [ 0.23313285,  0.04318389,  0.8073859 ,  0.16618066,  0.29141479,\n",
       "         0.74703399,  0.62229083,  0.12747999,  0.28073162,  0.69845887],\n",
       "       [ 0.72057707,  0.89881551,  0.79709691,  0.92874576,  0.33357671,\n",
       "         0.07222425,  0.21334561,  0.73271105,  0.49678053,  0.77114822],\n",
       "       [ 0.36103517,  0.92927208,  0.73117026,  0.38813793,  0.41771781,\n",
       "         0.74249584,  0.80481757,  0.53719581,  0.46397436,  0.88582339],\n",
       "       [ 0.53883991,  0.41843365,  0.65150896,  0.42714875,  0.95508636,\n",
       "         0.05221604,  0.81000672,  0.14206148,  0.05900495,  0.56495802],\n",
       "       [ 0.71858764,  0.13044406,  0.01558475,  0.52916105,  0.09437895,\n",
       "         0.29040601,  0.14993367,  0.96230284,  0.24575605,  0.70017014],\n",
       "       [ 0.80862508,  0.02749607,  0.84613089,  0.22600285,  0.73421987,\n",
       "         0.45838803,  0.23313285,  0.04318389,  0.8073859 ,  0.16618066]])"
      ]
     },
     "execution_count": 23,
     "metadata": {},
     "output_type": "execute_result"
    }
   ],
   "source": [
    "np.resize(arr,(10,10))  #If the new array is larger than the original array, \n",
    "#then the new array is filled with repeated copies of a. Note that this behavior \n",
    "#is different from a.resize(new_shape) which fills with zeros instead of repeated copies of a."
   ]
  },
  {
   "cell_type": "code",
   "execution_count": 24,
   "metadata": {},
   "outputs": [
    {
     "data": {
      "text/plain": [
       "array([[0, 1, 2],\n",
       "       [3, 0, 1]])"
      ]
     },
     "execution_count": 24,
     "metadata": {},
     "output_type": "execute_result"
    }
   ],
   "source": [
    "a=np.array([[0,1],[2,3]])\n",
    "np.resize(a,(2,3))  ## Resizes the array , filling the missing values with zeros"
   ]
  },
  {
   "cell_type": "code",
   "execution_count": 25,
   "metadata": {
    "collapsed": true
   },
   "outputs": [],
   "source": [
    "multi_dim=np.random.rand(4,5,6) * 10  #creating a 3 dimensioan array . The shape parameter is very important"
   ]
  },
  {
   "cell_type": "code",
   "execution_count": 34,
   "metadata": {},
   "outputs": [
    {
     "data": {
      "text/plain": [
       "array([[[ 6.71057844,  5.95530392,  4.04871573,  9.86134054,  2.40111807,\n",
       "          8.08563255],\n",
       "        [ 4.25393049,  7.23536507,  7.86757994,  4.09216314,  4.68660577,\n",
       "          2.86024634],\n",
       "        [ 2.46957737,  8.21833753,  5.71581885,  4.12148194,  5.47500659,\n",
       "          3.08459758],\n",
       "        [ 0.66052484,  7.7593569 ,  5.05006223,  7.50389051,  5.69145356,\n",
       "          5.95445413],\n",
       "        [ 7.31043698,  0.5589532 ,  8.00197824,  9.88839935,  6.99868961,\n",
       "          5.29683189]],\n",
       "\n",
       "       [[ 9.39008505,  9.15439529,  9.93972738,  2.91640001,  9.00501639,\n",
       "          2.78030383],\n",
       "        [ 1.56241519,  6.87172808,  6.15803021,  5.18539644,  9.57200746,\n",
       "          3.05891898],\n",
       "        [ 4.24816387,  3.31632394,  1.9090437 ,  6.75039788,  2.29086635,\n",
       "          9.61571457],\n",
       "        [ 3.60663901,  3.34624598,  9.59332172,  3.1212261 ,  0.56344686,\n",
       "          3.92110407],\n",
       "        [ 6.49464563,  0.57880235,  1.80907198,  1.16262148,  9.3106623 ,\n",
       "          9.46985769]],\n",
       "\n",
       "       [[ 0.2265064 ,  7.91149408,  0.3484409 ,  3.07716934,  0.50404875,\n",
       "          4.12491971],\n",
       "        [ 7.91319047,  6.20662194,  9.55118976,  2.50947961,  8.13650017,\n",
       "          6.73393511],\n",
       "        [ 1.96824515,  3.86480145,  6.62347627,  3.60335981,  8.22398846,\n",
       "          7.29101065],\n",
       "        [ 4.83816281,  7.17200432,  0.1930474 ,  3.5781955 ,  9.82393682,\n",
       "          1.64292147],\n",
       "        [ 3.52728445,  6.81939721,  1.02639419,  0.01126978,  9.13566512,\n",
       "          9.66731713]],\n",
       "\n",
       "       [[ 1.59586957,  8.05451219,  7.96174488,  4.06607187,  2.89648992,\n",
       "          4.7695925 ],\n",
       "        [ 5.88316266,  6.07909823,  3.46486017,  7.94302197,  9.76469734,\n",
       "          4.34408377],\n",
       "        [ 2.02495952,  9.45351137,  6.28381994,  1.32442921,  9.61095315,\n",
       "          2.73071102],\n",
       "        [ 7.51612117,  9.90164147,  5.75392247,  9.26610242,  1.09011105,\n",
       "          2.73465692],\n",
       "        [ 0.22295508,  5.49599449,  5.83822346,  1.45436009,  1.18469875,\n",
       "          2.20671637]]])"
      ]
     },
     "execution_count": 34,
     "metadata": {},
     "output_type": "execute_result"
    }
   ],
   "source": [
    "multi_dim\n"
   ]
  },
  {
   "cell_type": "markdown",
   "metadata": {},
   "source": [
    "# Accessing and slicing array elements ... HOMEWORK . Use the URL at the top of this page "
   ]
  },
  {
   "cell_type": "code",
   "execution_count": 35,
   "metadata": {},
   "outputs": [
    {
     "data": {
      "text/plain": [
       "9.8239368222849137"
      ]
     },
     "execution_count": 35,
     "metadata": {},
     "output_type": "execute_result"
    }
   ],
   "source": [
    " multi_dim[2,3,4]\n",
    "        "
   ]
  },
  {
   "cell_type": "markdown",
   "metadata": {
    "collapsed": true
   },
   "source": [
    "Copyright © 2018 Bhupathi Consulting Inc."
   ]
  },
  {
   "cell_type": "code",
   "execution_count": null,
   "metadata": {
    "collapsed": true
   },
   "outputs": [],
   "source": []
  }
 ],
 "metadata": {
  "kernelspec": {
   "display_name": "Python 2",
   "language": "python",
   "name": "python2"
  },
  "language_info": {
   "codemirror_mode": {
    "name": "ipython",
    "version": 2
   },
   "file_extension": ".py",
   "mimetype": "text/x-python",
   "name": "python",
   "nbconvert_exporter": "python",
   "pygments_lexer": "ipython2",
   "version": "2.7.14"
  }
 },
 "nbformat": 4,
 "nbformat_minor": 2
}
