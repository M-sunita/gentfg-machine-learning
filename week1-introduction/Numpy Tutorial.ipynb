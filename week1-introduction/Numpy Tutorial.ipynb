{
 "cells": [
  {
   "cell_type": "markdown",
   "metadata": {},
   "source": [
    "# NumPy Tutorial\n",
    "Numpy is the library that gives Python its ability to work with data at speed. Originally, launched in 1995 as 'Numeric,' NumPy is the foundation on which many important Python data science libraries are built, including Pandas, SciPy and scikit-learn. Let us get started with using and learning Numpy.\n",
    "\n",
    "Here is a Good Reference URL to playaroud \n",
    "https://www.dataquest.io/blog/numpy-cheat-sheet/"
   ]
  },
  {
   "cell_type": "code",
   "execution_count": 61,
   "metadata": {
    "collapsed": true
   },
   "outputs": [],
   "source": [
    "import numpy as np"
   ]
  },
  {
   "cell_type": "code",
   "execution_count": 62,
   "metadata": {},
   "outputs": [
    {
     "data": {
      "text/plain": [
       "array([  2.,  33.,   4.,  25.,   6.,   7.])"
      ]
     },
     "execution_count": 62,
     "metadata": {},
     "output_type": "execute_result"
    }
   ],
   "source": [
    "np.loadtxt('file.txt') ##| From a text file"
   ]
  },
  {
   "cell_type": "code",
   "execution_count": 63,
   "metadata": {},
   "outputs": [
    {
     "name": "stderr",
     "output_type": "stream",
     "text": [
      "/home/rbhupathi/anaconda2/lib/python2.7/site-packages/ipykernel_launcher.py:2: UserWarning: genfromtxt: Empty input file: \"file.csv\"\n",
      "  \n"
     ]
    },
    {
     "data": {
      "text/plain": [
       "array([], dtype=float64)"
      ]
     },
     "execution_count": 63,
     "metadata": {},
     "output_type": "execute_result"
    }
   ],
   "source": [
    "\n",
    "np.genfromtxt('file.csv',delimiter=',') # | From a CSV file"
   ]
  },
  {
   "cell_type": "code",
   "execution_count": 64,
   "metadata": {
    "collapsed": true
   },
   "outputs": [],
   "source": [
    "arr= np.array([2,33,4,25,6,7])\n",
    "np.savetxt('file.txt',arr,delimiter=' ')# | Writes to a text file"
   ]
  },
  {
   "cell_type": "code",
   "execution_count": 65,
   "metadata": {},
   "outputs": [
    {
     "data": {
      "text/plain": [
       "array([[1, 2, 4],\n",
       "       [2, 0, 2]])"
      ]
     },
     "execution_count": 65,
     "metadata": {},
     "output_type": "execute_result"
    }
   ],
   "source": [
    "np.array([1,2,3]) ## One dimensional array\n",
    "\n",
    "np.random.randint(5,size=(2,3)) #| 2x3 array with random ints between 0-4\n",
    "\n"
   ]
  },
  {
   "cell_type": "code",
   "execution_count": 66,
   "metadata": {},
   "outputs": [
    {
     "data": {
      "text/plain": [
       "array([[1, 2, 3],\n",
       "       [4, 5, 6]])"
      ]
     },
     "execution_count": 66,
     "metadata": {},
     "output_type": "execute_result"
    }
   ],
   "source": [
    "np.array([(1,2,3),(4,5,6)]) #| Two dimensional array"
   ]
  },
  {
   "cell_type": "code",
   "execution_count": 67,
   "metadata": {},
   "outputs": [
    {
     "data": {
      "text/plain": [
       "array([ 0.,  0.,  0.])"
      ]
     },
     "execution_count": 67,
     "metadata": {},
     "output_type": "execute_result"
    }
   ],
   "source": [
    "np.zeros(3) #| 1D array of length 3 all values 0"
   ]
  },
  {
   "cell_type": "code",
   "execution_count": 68,
   "metadata": {},
   "outputs": [
    {
     "data": {
      "text/plain": [
       "array([[ 1.,  1.,  1.,  1.],\n",
       "       [ 1.,  1.,  1.,  1.],\n",
       "       [ 1.,  1.,  1.,  1.]])"
      ]
     },
     "execution_count": 68,
     "metadata": {},
     "output_type": "execute_result"
    }
   ],
   "source": [
    "np.ones((3,4)) #| 3x4 array with all values 1"
   ]
  },
  {
   "cell_type": "code",
   "execution_count": 69,
   "metadata": {},
   "outputs": [
    {
     "data": {
      "text/plain": [
       "array([[ 1.,  0.,  0.,  0.,  0.],\n",
       "       [ 0.,  1.,  0.,  0.,  0.],\n",
       "       [ 0.,  0.,  1.,  0.,  0.],\n",
       "       [ 0.,  0.,  0.,  1.,  0.],\n",
       "       [ 0.,  0.,  0.,  0.,  1.]])"
      ]
     },
     "execution_count": 69,
     "metadata": {},
     "output_type": "execute_result"
    }
   ],
   "source": [
    "np.eye(5) #| 5x5 array of 0 with 1 on diagonal (Identity matrix)"
   ]
  },
  {
   "cell_type": "code",
   "execution_count": 70,
   "metadata": {},
   "outputs": [
    {
     "data": {
      "text/plain": [
       "array([   0.,   20.,   40.,   60.,   80.,  100.])"
      ]
     },
     "execution_count": 70,
     "metadata": {},
     "output_type": "execute_result"
    }
   ],
   "source": [
    "np.linspace(0,100,6) #| Array of 6 evenly divided values from 0 to 100"
   ]
  },
  {
   "cell_type": "code",
   "execution_count": 71,
   "metadata": {},
   "outputs": [
    {
     "data": {
      "text/plain": [
       "array([0, 3, 6, 9])"
      ]
     },
     "execution_count": 71,
     "metadata": {},
     "output_type": "execute_result"
    }
   ],
   "source": [
    "np.arange(0,10,3) #| Array of values from 0 to less than 10 with step 3 (eg [0,3,6,9])"
   ]
  },
  {
   "cell_type": "code",
   "execution_count": 72,
   "metadata": {},
   "outputs": [
    {
     "data": {
      "text/plain": [
       "array([[8, 8, 8],\n",
       "       [8, 8, 8]])"
      ]
     },
     "execution_count": 72,
     "metadata": {},
     "output_type": "execute_result"
    }
   ],
   "source": [
    "np.full((2,3),8) #| 2x3 array with all values 8"
   ]
  },
  {
   "cell_type": "code",
   "execution_count": 73,
   "metadata": {},
   "outputs": [
    {
     "data": {
      "text/plain": [
       "array([[ 0.37272136,  0.79601943,  0.94433459,  0.02035261,  0.6642362 ],\n",
       "       [ 0.24914524,  0.52639874,  0.62280804,  0.41581955,  0.69902723],\n",
       "       [ 0.12630324,  0.1141588 ,  0.80671961,  0.53206172,  0.28171219],\n",
       "       [ 0.40838589,  0.23839927,  0.96687201,  0.12748567,  0.55705011]])"
      ]
     },
     "execution_count": 73,
     "metadata": {},
     "output_type": "execute_result"
    }
   ],
   "source": [
    "np.random.rand(4,5) #| 4x5 array of random floats between 0-1"
   ]
  },
  {
   "cell_type": "code",
   "execution_count": 74,
   "metadata": {},
   "outputs": [
    {
     "data": {
      "text/plain": [
       "array([[ 30.50357031,  97.29596684,  78.03629241,  96.98425294,\n",
       "         55.33809806,  35.27921686,  85.76558147,  19.99365679],\n",
       "       [ 23.92943375,  88.6494097 ,  65.82870795,  40.42671119,\n",
       "         24.91096346,  26.49604432,  55.66056501,   4.59592951],\n",
       "       [ 99.28525092,  25.25612422,   2.41014528,  46.31623277,\n",
       "         98.26086885,   0.09994315,  87.74314188,  87.60761747],\n",
       "       [ 93.23182374,  10.73452023,  39.49206349,  98.28784517,\n",
       "         83.41831046,  36.15537136,  88.52227352,  69.80619774],\n",
       "       [  1.42504401,  25.55911559,  90.09424426,  64.85921051,\n",
       "         54.34422683,   9.59228821,  83.29267185,  53.36336956],\n",
       "       [ 59.9077742 ,  80.43079722,  17.07835682,  26.03815903,\n",
       "         56.18211559,  50.48577584,  66.94970552,  14.11358619]])"
      ]
     },
     "execution_count": 74,
     "metadata": {},
     "output_type": "execute_result"
    }
   ],
   "source": [
    "np.random.rand(6,8)*100 #|# 6x7 array of random floats between 0-100"
   ]
  },
  {
   "cell_type": "code",
   "execution_count": 75,
   "metadata": {},
   "outputs": [
    {
     "data": {
      "text/plain": [
       "array([ 11.02633221,  97.41044808,  81.58788593,  54.45956458,\n",
       "        71.50006743,   9.0400122 ])"
      ]
     },
     "execution_count": 75,
     "metadata": {},
     "output_type": "execute_result"
    }
   ],
   "source": [
    "np.random.random(6)*100 # "
   ]
  },
  {
   "cell_type": "markdown",
   "metadata": {
    "collapsed": true
   },
   "source": [
    "# Inspecting Numpy Properties"
   ]
  },
  {
   "cell_type": "code",
   "execution_count": 76,
   "metadata": {},
   "outputs": [
    {
     "data": {
      "text/plain": [
       "56"
      ]
     },
     "execution_count": 76,
     "metadata": {},
     "output_type": "execute_result"
    }
   ],
   "source": [
    "arr= np.random.rand(7,8)\n",
    "arr.size #| Returns number of elements in arr\n"
   ]
  },
  {
   "cell_type": "code",
   "execution_count": 77,
   "metadata": {},
   "outputs": [
    {
     "data": {
      "text/plain": [
       "(7, 8)"
      ]
     },
     "execution_count": 77,
     "metadata": {},
     "output_type": "execute_result"
    }
   ],
   "source": [
    "arr.shape #| Returns dimensions of arr (rows,columns)"
   ]
  },
  {
   "cell_type": "code",
   "execution_count": 78,
   "metadata": {},
   "outputs": [
    {
     "data": {
      "text/plain": [
       "array([[  6.61669318e-01,   5.08054917e-01,   2.88821308e-01,\n",
       "          6.39945815e-01,   4.55883798e-01,   2.35970624e-01,\n",
       "          8.51523946e-01],\n",
       "       [  3.93047756e-02,   4.14103155e-01,   1.42306277e-01,\n",
       "          2.65788417e-04,   2.13315626e-02,   1.13201006e-01,\n",
       "          4.78004361e-01],\n",
       "       [  6.09467820e-01,   4.41146554e-01,   8.31713146e-01,\n",
       "          4.03891975e-01,   5.14638513e-01,   1.57052588e-02,\n",
       "          3.91577365e-01],\n",
       "       [  5.62888657e-01,   3.91456617e-01,   6.16931313e-01,\n",
       "          7.09035650e-01,   2.82472544e-01,   5.77277085e-02,\n",
       "          2.07968719e-01],\n",
       "       [  3.76597685e-01,   8.43564091e-02,   6.22825752e-01,\n",
       "          8.32512484e-01,   2.90483943e-01,   6.21430281e-01,\n",
       "          1.80143505e-01],\n",
       "       [  1.47088926e-02,   6.50410802e-01,   6.54794098e-02,\n",
       "          1.89805247e-02,   9.82023369e-01,   8.05303757e-02,\n",
       "          1.32678030e-01],\n",
       "       [  3.81709263e-01,   5.98772051e-01,   7.81653914e-01,\n",
       "          7.71525772e-01,   1.45343378e-01,   9.14703444e-01,\n",
       "          6.95086455e-02],\n",
       "       [  8.60130769e-01,   7.11176477e-01,   8.29259036e-01,\n",
       "          9.32002483e-02,   3.10154570e-01,   5.22475344e-01,\n",
       "          1.26989952e-01]])"
      ]
     },
     "execution_count": 78,
     "metadata": {},
     "output_type": "execute_result"
    }
   ],
   "source": [
    "arr.reshape(8,7) #| Reshapes arr to 3 rows, 4 columns without changing data\n"
   ]
  },
  {
   "cell_type": "code",
   "execution_count": 79,
   "metadata": {},
   "outputs": [],
   "source": [
    "arr.resize(7,8) #| Changes arr shape to 5x6 and fills new values with 0"
   ]
  },
  {
   "cell_type": "code",
   "execution_count": 80,
   "metadata": {},
   "outputs": [
    {
     "data": {
      "text/plain": [
       "array([[  6.61669318e-01,   5.08054917e-01,   2.88821308e-01,\n",
       "          6.39945815e-01,   4.55883798e-01,   2.35970624e-01,\n",
       "          8.51523946e-01,   3.93047756e-02],\n",
       "       [  4.14103155e-01,   1.42306277e-01,   2.65788417e-04,\n",
       "          2.13315626e-02,   1.13201006e-01,   4.78004361e-01,\n",
       "          6.09467820e-01,   4.41146554e-01],\n",
       "       [  8.31713146e-01,   4.03891975e-01,   5.14638513e-01,\n",
       "          1.57052588e-02,   3.91577365e-01,   5.62888657e-01,\n",
       "          3.91456617e-01,   6.16931313e-01],\n",
       "       [  7.09035650e-01,   2.82472544e-01,   5.77277085e-02,\n",
       "          2.07968719e-01,   3.76597685e-01,   8.43564091e-02,\n",
       "          6.22825752e-01,   8.32512484e-01],\n",
       "       [  2.90483943e-01,   6.21430281e-01,   1.80143505e-01,\n",
       "          1.47088926e-02,   6.50410802e-01,   6.54794098e-02,\n",
       "          1.89805247e-02,   9.82023369e-01],\n",
       "       [  8.05303757e-02,   1.32678030e-01,   3.81709263e-01,\n",
       "          5.98772051e-01,   7.81653914e-01,   7.71525772e-01,\n",
       "          1.45343378e-01,   9.14703444e-01],\n",
       "       [  6.95086455e-02,   8.60130769e-01,   7.11176477e-01,\n",
       "          8.29259036e-01,   9.32002483e-02,   3.10154570e-01,\n",
       "          5.22475344e-01,   1.26989952e-01]])"
      ]
     },
     "execution_count": 80,
     "metadata": {},
     "output_type": "execute_result"
    }
   ],
   "source": [
    "arr"
   ]
  },
  {
   "cell_type": "code",
   "execution_count": 81,
   "metadata": {},
   "outputs": [
    {
     "data": {
      "text/plain": [
       "array([[  6.61669318e-01,   5.08054917e-01,   2.88821308e-01,\n",
       "          6.39945815e-01,   4.55883798e-01,   2.35970624e-01,\n",
       "          8.51523946e-01,   3.93047756e-02,   4.14103155e-01,\n",
       "          1.42306277e-01],\n",
       "       [  2.65788417e-04,   2.13315626e-02,   1.13201006e-01,\n",
       "          4.78004361e-01,   6.09467820e-01,   4.41146554e-01,\n",
       "          8.31713146e-01,   4.03891975e-01,   5.14638513e-01,\n",
       "          1.57052588e-02],\n",
       "       [  3.91577365e-01,   5.62888657e-01,   3.91456617e-01,\n",
       "          6.16931313e-01,   7.09035650e-01,   2.82472544e-01,\n",
       "          5.77277085e-02,   2.07968719e-01,   3.76597685e-01,\n",
       "          8.43564091e-02],\n",
       "       [  6.22825752e-01,   8.32512484e-01,   2.90483943e-01,\n",
       "          6.21430281e-01,   1.80143505e-01,   1.47088926e-02,\n",
       "          6.50410802e-01,   6.54794098e-02,   1.89805247e-02,\n",
       "          9.82023369e-01],\n",
       "       [  8.05303757e-02,   1.32678030e-01,   3.81709263e-01,\n",
       "          5.98772051e-01,   7.81653914e-01,   7.71525772e-01,\n",
       "          1.45343378e-01,   9.14703444e-01,   6.95086455e-02,\n",
       "          8.60130769e-01],\n",
       "       [  7.11176477e-01,   8.29259036e-01,   9.32002483e-02,\n",
       "          3.10154570e-01,   5.22475344e-01,   1.26989952e-01,\n",
       "          6.61669318e-01,   5.08054917e-01,   2.88821308e-01,\n",
       "          6.39945815e-01],\n",
       "       [  4.55883798e-01,   2.35970624e-01,   8.51523946e-01,\n",
       "          3.93047756e-02,   4.14103155e-01,   1.42306277e-01,\n",
       "          2.65788417e-04,   2.13315626e-02,   1.13201006e-01,\n",
       "          4.78004361e-01],\n",
       "       [  6.09467820e-01,   4.41146554e-01,   8.31713146e-01,\n",
       "          4.03891975e-01,   5.14638513e-01,   1.57052588e-02,\n",
       "          3.91577365e-01,   5.62888657e-01,   3.91456617e-01,\n",
       "          6.16931313e-01],\n",
       "       [  7.09035650e-01,   2.82472544e-01,   5.77277085e-02,\n",
       "          2.07968719e-01,   3.76597685e-01,   8.43564091e-02,\n",
       "          6.22825752e-01,   8.32512484e-01,   2.90483943e-01,\n",
       "          6.21430281e-01],\n",
       "       [  1.80143505e-01,   1.47088926e-02,   6.50410802e-01,\n",
       "          6.54794098e-02,   1.89805247e-02,   9.82023369e-01,\n",
       "          8.05303757e-02,   1.32678030e-01,   3.81709263e-01,\n",
       "          5.98772051e-01]])"
      ]
     },
     "execution_count": 81,
     "metadata": {},
     "output_type": "execute_result"
    }
   ],
   "source": [
    "np.resize(arr,(10,10))  #If the new array is larger than the original array, \n",
    "#then the new array is filled with repeated copies of a. Note that this behavior \n",
    "#is different from a.resize(new_shape) which fills with zeros instead of repeated copies of a."
   ]
  },
  {
   "cell_type": "code",
   "execution_count": 82,
   "metadata": {},
   "outputs": [
    {
     "data": {
      "text/plain": [
       "array([[0, 1, 2],\n",
       "       [3, 0, 1]])"
      ]
     },
     "execution_count": 82,
     "metadata": {},
     "output_type": "execute_result"
    }
   ],
   "source": [
    "a=np.array([[0,1],[2,3]])\n",
    "np.resize(a,(2,3))  ## Resizes the array , filling the missing values with zeros"
   ]
  },
  {
   "cell_type": "code",
   "execution_count": 57,
   "metadata": {},
   "outputs": [],
   "source": [
    "multi_dim=np.random.rand(4,5,6) * 10  #creating a 3 dimensioan array . The shape parameter is very important"
   ]
  },
  {
   "cell_type": "code",
   "execution_count": 59,
   "metadata": {},
   "outputs": [
    {
     "data": {
      "text/plain": [
       "(4, 5, 6)"
      ]
     },
     "execution_count": 59,
     "metadata": {},
     "output_type": "execute_result"
    }
   ],
   "source": [
    "multi_dim.shape\n"
   ]
  },
  {
   "cell_type": "markdown",
   "metadata": {},
   "source": [
    "# Accessing and slicing array elements ... HOMEWORK . Use the URL at the top of this page "
   ]
  },
  {
   "cell_type": "markdown",
   "metadata": {},
   "source": []
  },
  {
   "cell_type": "code",
   "execution_count": null,
   "metadata": {
    "collapsed": true
   },
   "outputs": [],
   "source": []
  }
 ],
 "metadata": {
  "kernelspec": {
   "display_name": "Python 2",
   "language": "python",
   "name": "python2"
  },
  "language_info": {
   "codemirror_mode": {
    "name": "ipython",
    "version": 2
   },
   "file_extension": ".py",
   "mimetype": "text/x-python",
   "name": "python",
   "nbconvert_exporter": "python",
   "pygments_lexer": "ipython2",
   "version": "2.7.14"
  }
 },
 "nbformat": 4,
 "nbformat_minor": 2
}
