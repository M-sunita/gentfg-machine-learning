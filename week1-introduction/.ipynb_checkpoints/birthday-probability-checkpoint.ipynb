{
 "cells": [
  {
   "cell_type": "markdown",
   "metadata": {},
   "source": [
    "# What is the probability that any  2 people in a class of 57 have the same birthday"
   ]
  },
  {
   "cell_type": "markdown",
   "metadata": {},
   "source": [
    "Let's look at the probabilities a step at a time.\n",
    "\n",
    "For one person, there are 365 distinct birthdays.\n",
    "\n",
    "For two people, there are 364 different ways that the second could have a birthday without matching the first.\n",
    "\n",
    "If there is no match after two people, the third person has 363 different birthdays that do not match the other two. So, the probability of a match is 1 - (365)(364)(363)/(365)(365)(365).\n",
    "This leads to the following formula for calculating the probability of a match with N birthdays is 1 - (365)(364)(363)...(365 - N + 1)/(365)^N.\n",
    "Running this through a computer gives the chart below. Notice that a probability of over .5 is obtained after 23 dates!\n",
    "\n",
    "\n",
    "For more Information   http://mste.illinois.edu/activity/birthday/explanation.php"
   ]
  },
  {
   "cell_type": "markdown",
   "metadata": {},
   "source": [
    "![alt text](./probchart-birthday.GIF \"Logo Title Text 1\")\n"
   ]
  },
  {
   "cell_type": "code",
   "execution_count": null,
   "metadata": {
    "collapsed": true
   },
   "outputs": [],
   "source": []
  },
  {
   "cell_type": "code",
   "execution_count": null,
   "metadata": {
    "collapsed": true
   },
   "outputs": [],
   "source": []
  }
 ],
 "metadata": {
  "kernelspec": {
   "display_name": "Python 2",
   "language": "python",
   "name": "python2"
  },
  "language_info": {
   "codemirror_mode": {
    "name": "ipython",
    "version": 2
   },
   "file_extension": ".py",
   "mimetype": "text/x-python",
   "name": "python",
   "nbconvert_exporter": "python",
   "pygments_lexer": "ipython2",
   "version": "2.7.14"
  }
 },
 "nbformat": 4,
 "nbformat_minor": 2
}
