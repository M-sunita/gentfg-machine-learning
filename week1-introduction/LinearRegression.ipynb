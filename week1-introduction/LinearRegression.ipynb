{
 "cells": [
  {
   "cell_type": "markdown",
   "metadata": {},
   "source": [
    "# Simple Linear Regression (one Variable/Feature)"
   ]
  },
  {
   "cell_type": "markdown",
   "metadata": {},
   "source": [
    "Let's fabricate some data that shows a roughly linear relationship between page speed and amount purchased:"
   ]
  },
  {
   "cell_type": "code",
   "execution_count": 20,
   "metadata": {},
   "outputs": [
    {
     "name": "stdout",
     "output_type": "stream",
     "text": [
      "[ 5.00938268  3.11117162  3.29249059  2.15418202  4.61357067  2.73359275\n",
      "  3.25367361  2.90580208  1.54453844  2.79528693  1.69654311  1.87369232\n",
      "  3.17041349  2.73946716  4.07988681  2.2013535   2.27029928  3.35190595\n",
      "  2.05884415  3.15469995  3.57651607  2.05096081  2.97089166  4.46484711\n",
      "  3.21785981  3.37777649  0.76372919  1.15469634  1.61306829  2.24619573\n",
      "  5.17509248  2.57574155  1.52620013  3.32668311  3.48355207  4.68643237\n",
      "  1.74268931  2.61124395  2.44373404  2.06996123  3.58950499  4.11794136\n",
      "  1.98220397  3.12034189  3.27849316  2.97525787  1.03714961  2.74958148\n",
      "  2.40580638  2.23492395  2.90273466  3.29921639  2.53236507  3.53553855\n",
      "  1.35321271  2.02288219  1.92292547  2.95083723  3.65031573  3.11567884\n",
      "  4.43094119  1.89261568  2.71865873  2.44586883  1.61863428  3.37628447\n",
      "  2.09260705  3.3668854   2.50786195  0.88617089  3.96304774  3.55288581\n",
      "  3.75166381  2.94106299  3.36125784  2.21122755  3.41366957  1.68127332\n",
      "  3.52775207  4.47385039  3.19083419  1.63060873  3.33105235  2.91828045\n",
      "  4.28339595  3.08997022  1.66400629  3.36409481  3.94623507  5.22504286\n",
      "  3.83945713  0.10897793  4.56776437  2.2359326   5.02680527  2.72096825\n",
      "  3.13387226  2.63983337  3.21134645  3.87958659  4.43463652  3.11565989\n",
      "  1.19734093  2.47963606  3.6806678   2.07154924  4.05362692  2.58632709\n",
      "  1.19733193  3.21824015  3.52972773  3.38820177  2.72050543  0.62288775\n",
      "  3.91499801  3.86605729  2.09734163  2.82215932  1.45341563  2.36065579\n",
      "  1.55968663  3.02536289  3.41149668  2.51037491  1.85886513  5.29470972\n",
      "  2.69555876  1.79843177  2.80042402  2.74251088  5.30170541  2.31080911\n",
      "  3.53292995  4.6353704   2.57305486  3.17686579  2.97784021  3.59914024\n",
      "  4.99272823  2.5630724   1.800355    3.43376411  2.73259694  2.26660474\n",
      "  2.51106382  2.28268908  2.69742452  4.2921447   4.24623628  2.50627182\n",
      "  3.62397865  3.90455762  2.16484392  4.57099284  3.40646452  1.82260374\n",
      "  3.42623327  4.13066739  3.0708439   2.16738697  2.7159245   3.51776629\n",
      "  2.59674797  2.8150492   0.83220547  3.88038328  3.91995021  1.30435535\n",
      "  2.01104301  3.3020727   2.50682324  3.27041136  2.56877704  3.42627628\n",
      "  3.23240796  2.42793959  2.14916493  3.17659432  4.23552541  3.45665644\n",
      "  3.61355391  2.12984323  2.01218334  3.00398867  0.83416342  2.03808943\n",
      "  0.13972851  3.12727049  1.43986652  3.00436656  1.88796643  2.60343484\n",
      "  3.16453001  1.76067871  2.69513668  1.69204932  1.91259603  1.49114809\n",
      "  3.48418181  3.42894676  2.88484478  2.79687981  2.84036178  0.33398371\n",
      "  2.51617605  4.89239429  4.33957298  2.00153189  2.0193734   3.57801919\n",
      "  2.59380999  1.71014311  2.73909595  2.52706678  4.39936866  3.74374724\n",
      "  2.88318161  3.82289641  2.93127473  2.93590242  4.14306251  2.58011919\n",
      "  4.01138481  2.75436448  2.69162752  2.29666463  4.28504815  0.70747573\n",
      "  2.44388016  2.53833992  3.86450389  1.26664994  3.11716075  2.23290069\n",
      "  3.61411104  3.68303419  3.67680895  4.05061299  0.70764909  3.03184544\n",
      "  3.05382176  4.50211014  2.08969781  3.15897474  3.27267137  2.93301835\n",
      "  4.17600943  3.83869728  2.64267188  2.98785758  1.80818531  2.20496864\n",
      "  4.07647917  3.85242015  2.55857826  2.54155371  2.47740895  3.49746344\n",
      "  2.43450054  2.7346533   2.43342745  2.91826181  3.44233928  2.48058201\n",
      "  1.99837619  4.52990443  2.50040272  3.4073951   3.83628618  3.3958194\n",
      "  3.83604252  2.436636    2.3922654   3.00233745  2.73079695  2.41199856\n",
      "  2.2715246   3.58300402  4.57382626  2.36021576  3.01505333  2.39761438\n",
      "  4.48111487  1.66412817  3.55344227  3.01861454  3.44484511  1.80298306\n",
      "  2.86559309  3.89438801  1.79725239  2.6853048   3.11174944  3.22913311\n",
      "  4.5749016   3.96127329  3.18273346  3.5154366   0.92281698  2.85096727\n",
      "  2.65119861  4.05089049  3.02645711  4.28337904  3.44490492  3.41610867\n",
      "  0.28728277  3.58557797  4.14356676  3.559661    3.93014583  3.34597694\n",
      "  2.09206886  2.0036293   3.32957843  3.28451001  1.62823705  4.28763236\n",
      "  4.49976029  3.66109446  4.97240775  3.7515143   0.39108814  2.49907931\n",
      "  3.59690313  4.66256722  2.87292484  2.76445116  2.70618519  2.37580179\n",
      "  2.64505318  2.51626325  4.00229315  3.12328132  3.23733714  3.89226343\n",
      "  1.66408557  3.50271237  3.27793927  4.15342986  3.10781541  2.89761884\n",
      "  3.28223501  1.10571498  3.48758625  3.89742901  2.16506429  3.46843682\n",
      "  3.95390767  4.46454379  2.51872284  3.8002234   4.63341894  2.14132149\n",
      "  3.47512614  3.31736181  1.19629546  3.74745559  4.58238278  4.18822837\n",
      "  2.18930999  3.88449283  2.68180799  3.22261676  1.94192383  2.33307984\n",
      "  5.10346128  1.98285868  3.35263212  2.5911864   1.85093388  2.3455869\n",
      "  2.73945862  4.70046852  2.78789163  3.12625475  2.54644899  3.19197692\n",
      "  3.26408914  3.35845916  2.63923391  5.25588283  3.09087161  3.35255341\n",
      "  3.34891034  2.53717755  4.50688673  3.47390578  3.15152282  4.25564679\n",
      "  2.99803297  2.20852097  2.66231449  3.57950337  3.47793003  3.49082862\n",
      "  2.87559936  2.17042323  1.54013642  3.00475528  2.15096442  0.52822077\n",
      "  3.94622095  4.41396048  3.28117163  3.72373447  3.91255626  1.40112287\n",
      "  3.31927203  2.31640583  2.98924934  3.98623184  3.09141604  3.53256059\n",
      "  3.20270054  3.83163675  2.98741833  2.10447487  2.59949838  2.67064091\n",
      "  0.77712884  2.84120748  2.13902905  3.95793708  4.05282487  4.38266344\n",
      "  4.40161245  3.39352724  3.15489757  2.59629275  3.51316826  3.6710081\n",
      "  3.21372063  2.16918294  3.35021057  2.013158    3.38946879  2.78136508\n",
      "  2.32213067  3.68478352  2.26686516  2.94299248  2.85429993  3.10873531\n",
      "  1.63956431  3.22644495  1.43696532  2.99009742  2.04822422  3.34766356\n",
      "  1.6082704   2.38424145  2.33991181  4.64339321  4.35016047  2.21217285\n",
      "  3.0943203   2.31428422  2.1152869   3.74171235  3.20510303  4.51173323\n",
      "  5.45582899  2.0777195   1.62132352  2.89063158  4.1947916   3.40854272\n",
      "  1.63459243  2.09692011  1.92703283  3.18057362  1.10316191  3.02470208\n",
      "  2.3900379   1.78325574  4.69960358  1.52591237  2.96377902  3.24579175\n",
      "  3.97384364  3.99156628  2.73346488  2.62980987  1.9949628   3.73764449\n",
      "  2.87871358  1.64826013  1.51316177  2.4923877   4.59441872  2.70722341\n",
      "  3.33452326  2.52217569  4.50002598  4.19277568  2.50127762  3.66401697\n",
      "  2.46728202  5.01840956  2.8166028   1.7591172   3.24941796  2.92655525\n",
      "  4.4357958   2.85785955  3.85989183  4.30812757  2.55831232  3.70309636\n",
      "  0.61671666  3.08711588  4.22123661  3.01198135  2.89681425  3.60491449\n",
      "  3.29766487  4.93510693  2.7567221   4.07944367  3.17783965  0.95877014\n",
      "  2.17076182  1.58606474  4.23362076  4.18023702  4.53087153  2.5987083\n",
      "  3.66537472  2.69839999  3.23331704  4.06017943  3.57778867  4.11838259\n",
      "  3.03916672  3.15443989  4.46836601  4.36823705  1.95649697  4.12296394\n",
      "  3.33851382  3.5050265   0.68446522  3.08992323 -0.40973341  4.22660444\n",
      "  4.09003732  2.67168365  3.78022896  1.62446743  5.25023761  3.8340423\n",
      "  0.96583386  2.4947662   3.84585276  1.7798815   2.70915507  4.06556993\n",
      "  4.00934866  3.07997208  3.75870371  2.88101158  2.3731528   3.54430264\n",
      "  3.12063534  2.983494    3.86802235  5.01983036  3.57520801  3.23046306\n",
      "  4.21585599  1.96906536  3.44686253  3.85022824  1.97194211  2.96626211\n",
      "  3.93420468  2.1468276   2.43573713  4.21905977  2.13957086  1.86806107\n",
      "  3.59949184  2.66134564  3.66709499  1.87009821  2.83890541  4.76183478\n",
      "  2.74438339  3.01650641  4.41553838  5.13699278  4.3403511   2.81471103\n",
      "  2.98493297  2.66406291  1.79597147  2.80679792  3.55928495  4.006468\n",
      "  2.25439779  2.68641959  3.76877241  3.24869665  3.45720996  1.78770414\n",
      "  4.19917091  4.47307011  3.59994138  2.86232985  3.03460678  2.2311955\n",
      "  4.16026646  4.0470396   0.84645384  2.36993272  3.55351441  3.33785526\n",
      "  3.09300289  4.19871254  3.65883413  3.87934715  3.5118965   4.37270621\n",
      "  1.46412295  1.51707514  1.3404011   3.70778619  4.33307774  3.13093962\n",
      "  3.94463087  2.58387142  4.03498997  1.65400735  2.7386812   1.56401758\n",
      "  2.65056935  4.37804801  4.83149786  2.80190568  4.83827876  3.95700397\n",
      "  4.12665576  2.49276888  2.69922609  1.95900283  3.36383812  2.37500795\n",
      "  2.58661464  2.30937688  2.12848684  2.90283549  2.77349351  3.46485547\n",
      "  2.54674115  2.76675579  3.86339356  2.1645744   3.24015154  3.76595064\n",
      "  2.5214887   0.59083218  2.04773103  1.68487703  2.77608572  3.23108809\n",
      "  4.3958633   2.21327948  2.64031087  3.28312229  2.60441945  2.87801483\n",
      "  2.97674621  1.98651754  2.73810548  3.30920275  1.95088185  2.2242341\n",
      "  2.62679919  3.68953528  4.82700685  2.43376338  0.98949234  3.02978624\n",
      "  3.76529201  3.99731156  2.67845029  1.62365399  3.56230219  2.62206414\n",
      "  3.18377046  3.28590226  2.10566344  1.69595891  2.60910819  4.48546465\n",
      "  2.59714398  2.28597445  3.48230333  3.62793087  2.78693261  1.97714443\n",
      "  3.07469145  2.52349503  3.88538194  2.53049164  5.77756804  3.64586329\n",
      "  3.85582413  1.86715284  3.62921677  3.03817343  2.17937333  2.57801503\n",
      "  3.3061492   2.76857309  4.12141908  2.64381607  3.80343273  3.73060216\n",
      "  1.73545344  4.47179709  1.96293438  2.52981691  3.4754906   2.85531018\n",
      "  2.9799481   5.16384051  3.35254472  4.11446735  0.37650024  1.7219702\n",
      "  3.16005066  3.53129073  2.6109675   1.26017882  2.98201568  3.89161987\n",
      "  4.06002965  2.7325656   3.24751526  3.10851902  3.4572278   4.12250108\n",
      "  1.82807683  2.69187395  4.34951942  2.8736015   3.6006385   2.28632467\n",
      "  4.95771639  1.36524258  3.88369648  3.04882164  3.31345494  2.7406628\n",
      "  1.56228355  4.26714458  3.54542144  2.29903357  3.46960828  2.64764238\n",
      "  2.97543728  1.59306036  4.06897879  2.55842669  2.00794987  2.82238685\n",
      "  3.1028284   2.61606269  2.7703053   0.7945136   2.67658022  1.93575567\n",
      "  3.77627175  0.96370762  4.44075178  2.76559828  2.67292913  1.22733684\n",
      "  2.49213531  2.8938863   1.63455939  3.59555297  3.78737131  2.32064732\n",
      "  2.39134627  3.16819249  3.55808452  1.62747609  3.84832658  2.66657551\n",
      "  1.78201788  2.44999467  1.08785758  2.82014283  3.79895269  4.22744523\n",
      "  5.23803137  3.16528245  0.82521615  3.97456064  3.47662455  3.3755278\n",
      "  4.47068942  2.39954666  2.84789796  3.23022994  3.40910433  4.5703082\n",
      "  4.13652469  4.82463351  3.09972387  4.81472161  3.55323658  4.93791658\n",
      "  5.11194791  4.06641429  1.75744537  3.73506619  3.53733097  3.58886903\n",
      "  4.0078405   1.55418757  2.30471827  1.29892788  3.5508908   1.03301536\n",
      "  1.35573183  2.33489737  1.11322545  3.1251652   5.00327877  3.59687899\n",
      "  2.9904098   3.83472042  4.66937534  1.7316545   2.95712266  2.76706801\n",
      "  3.55498349  0.87653817  3.54270374  1.59971098  3.10326365  1.97618104\n",
      "  2.75802772  3.5077106   1.13341738  4.12620084  4.65402829  4.1923127\n",
      "  1.39283666  4.18844611  3.27042489  2.83510312  3.13634223  1.40332419\n",
      "  2.63682103  2.57679285  2.56776915  1.73329973  3.53540512  3.01195698\n",
      "  3.43909362  3.79835419  2.77261898  3.60696335  3.08332144  3.57362266\n",
      "  3.32032293  2.93781471  2.36988441  3.97414779  3.64630955  1.89597098\n",
      "  2.45710275  3.69011907  2.50285378  2.97519454  1.44251127  3.60258893\n",
      "  3.92852907  1.14558958  2.5498741   2.91065889  3.08262194  2.85203522\n",
      "  4.64228048  1.23949837  2.34360495  3.71954944  2.42103867  2.11757643\n",
      "  2.18898511  3.84073781  2.47704174  3.77443933  2.22088926  2.56903714\n",
      "  1.58516824  4.30439586  3.10118626  2.58956346  3.68948542  4.94453637\n",
      "  2.91315903  2.12546324  3.27200856  3.54476852  2.91872983  2.39460832\n",
      "  1.70194863  1.76421853  2.05318851  2.90684553  1.61530734  3.59642566\n",
      "  3.04441016  3.65232924  2.51122269  3.56138293  4.24123692  3.41656022\n",
      "  4.49395147  0.7563291   1.84231269  3.34976783  3.71835372  0.93395777\n",
      "  2.98331542  3.45885486  2.96452516  5.88303841  3.41231559  4.7958677\n",
      "  1.43041177  2.08510496  2.18396506  4.81400784  2.74303482  2.31878694\n",
      "  1.95796573  1.57472373  4.30730431  2.70758459  2.62142344  3.41893577\n",
      "  2.48298897  4.55553826  3.82367737  2.28519476  2.40875694  2.43958205\n",
      "  3.45044399  2.57170978  3.3415786   3.78290573  2.32553444  3.83217177\n",
      "  3.73430284  3.26162029  2.47285348  2.93899212  2.98854878  2.15041494\n",
      "  4.42482402  4.44836522  2.67295258  0.78883349  3.15642806  3.34755179\n",
      "  2.90886965  4.3944623   2.07712571  4.05040848  0.52979832  3.81590421\n",
      "  3.36548811  4.30127446  3.33423046  3.55581959  2.86354997  2.61247073\n",
      "  3.6771967   3.32188498  2.78982021  1.43325777  1.94532895  2.59118579\n",
      "  2.22951378  3.56423419  2.81320671  3.6469196   4.47908701  2.67625872\n",
      "  2.30313923  3.00528697  3.37214611  3.95235352]\n"
     ]
    },
    {
     "data": {
      "text/plain": [
       "<matplotlib.collections.PathCollection at 0x7f79a8abc410>"
      ]
     },
     "execution_count": 20,
     "metadata": {},
     "output_type": "execute_result"
    },
    {
     "data": {
      "image/png": "[encoded data removed]",
      "text/plain": [
       "<matplotlib.figure.Figure at 0x7f7972078390>"
      ]
     },
     "metadata": {},
     "output_type": "display_data"
    }
   ],
   "source": [
    "%matplotlib inline\n",
    "import numpy as np\n",
    "from pylab import *\n",
    "\n",
    "pageSpeeds = np.random.normal(3.0, 1.0, 1000)\n",
    "print pageSpeeds\n",
    "purchaseAmount = (pageSpeeds + np.random.normal(0, 0.1, 1000)) * 3\n",
    "#purchaseAmount = 100 - (pageSpeeds + np.random.normal(0, 0.1, 1000)) * 3\n",
    "\n",
    "\n",
    "scatter(pageSpeeds, purchaseAmount)"
   ]
  },
  {
   "cell_type": "markdown",
   "metadata": {},
   "source": [
    "As we only have two features, we can keep it simple and just use scipy.state.linregress.\n",
    "\n",
    "A line that fits the data \"best\" will be one for which the n prediction errors — one for each observed data point — are as small as possible in some overall sense. One way to achieve this goal is to invoke the \"least squares criterion,\" which says to \"minimize the sum of the squared prediction errors.\".\n"
   ]
  },
  {
   "cell_type": "markdown",
   "metadata": {},
   "source": [
    "# What is R-Squared:\n",
    "\n",
    "\n",
    "\n",
    "R-squared is a statistical measure of how close the data are to the fitted regression line. It is also known as the coefficient of determination, or the coefficient of multiple determination for multiple regression.The definition of R-squared is fairly straight-forward; it is the percentage of the response variable variation that is explained by a linear model. Or:\n",
    "\n",
    "R-squared = Explained variation / Total variation\n",
    "\n",
    "R-squared is always between 0 and 100%:\n",
    "\n",
    "0% indicates that the model explains none of the variability of the response data around its mean.\n",
    "\n",
    "100% indicates that the model explains all the variability of the response data around its mean.\n",
    "In general, the higher the R-squared, the better the model fits your data. This is not always true because a very high R-squared can also mean that the model is overfitted (we will talk about this later)\n",
    "\n",
    "\n",
    "# What is P-Value\n",
    "\n",
    "p-value helps you to decide whether there is a relationship between two variables or not.\n",
    "\n",
    "The smaller the p-value this mean the more confident you are about the existence of relationship between the two variables. The origins of p-values comes form hypothesis testing in statistics. In hypothesis testing, you have two hypothesis:\n",
    "\n",
    "H0 (called the null hypothesis ) : There is no relationship between the two variables.\n",
    "\n",
    "H1 (called the alternative hypothesis): There exist a relationship between the two variables.\n",
    "\n",
    "If the p-value is less than small threshold (often 0.05 is used), then you can reject the null hypothesis H0, which means that you decide that there is a relationship between the two variables.\n",
    "\n",
    "One intuitive interpretation of p-value: it is the likelihood of observing the data points when the null hypothesis is true (there is no relationship between the two variables). Therefore, if the p-value is too small this means that it is very unlikely that the dataset was generated by chance and we decide that null hypothesis is false."
   ]
  },
  {
   "cell_type": "code",
   "execution_count": 9,
   "metadata": {
    "collapsed": true
   },
   "outputs": [],
   "source": [
    "from scipy import stats\n",
    "\n",
    "slope, intercept, r_value, p_value, std_err = stats.linregress(pageSpeeds, purchaseAmount)\n"
   ]
  },
  {
   "cell_type": "markdown",
   "metadata": {},
   "source": [
    "Not surprisngly, our R-squared value shows a really good fit:"
   ]
  },
  {
   "cell_type": "code",
   "execution_count": 10,
   "metadata": {},
   "outputs": [
    {
     "data": {
      "text/plain": [
       "-0.9947215373709366"
      ]
     },
     "execution_count": 10,
     "metadata": {},
     "output_type": "execute_result"
    }
   ],
   "source": [
    "r_value   ###  Also known  (Pearson) Correlation Coefficient "
   ]
  },
  {
   "cell_type": "code",
   "execution_count": 11,
   "metadata": {},
   "outputs": [
    {
     "data": {
      "text/plain": [
       "0.9894709369095996"
      ]
     },
     "execution_count": 11,
     "metadata": {},
     "output_type": "execute_result"
    }
   ],
   "source": [
    "r_value ** 2   ### Also know as Coefficient of Determnation."
   ]
  },
  {
   "cell_type": "code",
   "execution_count": 12,
   "metadata": {},
   "outputs": [
    {
     "data": {
      "text/plain": [
       "0.009788362011081263"
      ]
     },
     "execution_count": 12,
     "metadata": {},
     "output_type": "execute_result"
    }
   ],
   "source": [
    "std_err"
   ]
  },
  {
   "cell_type": "code",
   "execution_count": 13,
   "metadata": {},
   "outputs": [
    {
     "data": {
      "text/plain": [
       "0.0"
      ]
     },
     "execution_count": 13,
     "metadata": {},
     "output_type": "execute_result"
    }
   ],
   "source": [
    "p_value\n"
   ]
  },
  {
   "cell_type": "code",
   "execution_count": 14,
   "metadata": {},
   "outputs": [
    {
     "data": {
      "text/plain": [
       "-2.9976570864444785"
      ]
     },
     "execution_count": 14,
     "metadata": {},
     "output_type": "execute_result"
    }
   ],
   "source": [
    "slope"
   ]
  },
  {
   "cell_type": "code",
   "execution_count": 15,
   "metadata": {},
   "outputs": [
    {
     "data": {
      "text/plain": [
       "99.9885777336635"
      ]
     },
     "execution_count": 15,
     "metadata": {},
     "output_type": "execute_result"
    }
   ],
   "source": [
    "intercept"
   ]
  },
  {
   "cell_type": "markdown",
   "metadata": {},
   "source": [
    "The estimated slope and the correlation coefficient r always share the same sign. Furthermore, because r2 is always a number between 0 and 1, the correlation coefficient r is always a number between -1 and 1."
   ]
  },
  {
   "cell_type": "markdown",
   "metadata": {},
   "source": [
    "Let's use the slope and intercept we got from the regression to plot predicted values vs. observed:"
   ]
  },
  {
   "cell_type": "code",
   "execution_count": 17,
   "metadata": {},
   "outputs": [
    {
     "data": {
      "image/png": "[encoded data removed]",
      "text/plain": [
       "<matplotlib.figure.Figure at 0x7f7971f9de10>"
      ]
     },
     "metadata": {},
     "output_type": "display_data"
    }
   ],
   "source": [
    "import matplotlib.pyplot as plt\n",
    "\n",
    "def predict(x):\n",
    "    return slope * x + intercept\n",
    "\n",
    "fitLine = predict(pageSpeeds)\n",
    "#print fitLine\n",
    "\n",
    "plt.scatter(pageSpeeds, purchaseAmount)\n",
    "plt.plot(pageSpeeds, fitLine, c='r')\n",
    "plt.show()"
   ]
  },
  {
   "cell_type": "markdown",
   "metadata": {},
   "source": [
    "## Activity"
   ]
  },
  {
   "cell_type": "markdown",
   "metadata": {},
   "source": [
    "Try increasing the random variation in the test data, and see what effect it has on the r-squared error value."
   ]
  },
  {
   "cell_type": "code",
   "execution_count": 18,
   "metadata": {},
   "outputs": [
    {
     "name": "stdout",
     "output_type": "stream",
     "text": [
      "total 784\r\n",
      "-rw-r--r-- 1 rbhupathi users      0 Feb  3 22:36  file.csv\r\n",
      "-rw-r--r-- 1 rbhupathi users    150 Feb  4 15:14  file.txt\r\n",
      "-rw-r--r-- 1 rbhupathi users   9170 Feb 10 19:31 'Getting started with iPython Notebook.ipynb'\r\n",
      "-rw-r--r-- 1 rbhupathi users  46870 Feb  8 15:35 'Getting Started with SFrames.ipynb'\r\n",
      "-rw-r--r-- 1 rbhupathi users  31771 Feb 10 19:46  LinearRegression.ipynb\r\n",
      "-rw-r--r-- 1 rbhupathi users 486558 Feb  8 16:01 'Machine Learning -1.pdf'\r\n",
      "-rw-r--r-- 1 rbhupathi users 150193 Feb  7 12:03  MachineLearning-Installation-CheatSheet.pdf\r\n",
      "-rw-r--r-- 1 rbhupathi users  18477 Feb  8 15:35 'Numpy Tutorial.ipynb'\r\n",
      "-rw-r--r-- 1 rbhupathi users    248 Feb  2 10:40  people-example.csv\r\n",
      "-rw-r--r-- 1 rbhupathi users  31920 Feb  8 17:19  PolynomialRegression.ipynb\r\n"
     ]
    }
   ],
   "source": [
    "!ls -l\n",
    "\n"
   ]
  },
  {
   "cell_type": "markdown",
   "metadata": {},
   "source": [
    "Copyright © 2018 Bhupathi Consulting Inc."
   ]
  },
  {
   "cell_type": "code",
   "execution_count": null,
   "metadata": {
    "collapsed": true
   },
   "outputs": [],
   "source": []
  }
 ],
 "metadata": {
  "kernelspec": {
   "display_name": "Python 2",
   "language": "python",
   "name": "python2"
  },
  "language_info": {
   "codemirror_mode": {
    "name": "ipython",
    "version": 2
   },
   "file_extension": ".py",
   "mimetype": "text/x-python",
   "name": "python",
   "nbconvert_exporter": "python",
   "pygments_lexer": "ipython2",
   "version": "2.7.14"
  }
 },
 "nbformat": 4,
 "nbformat_minor": 1
}
